{
  "nbformat": 4,
  "nbformat_minor": 0,
  "metadata": {
    "colab": {
      "provenance": [],
      "machine_shape": "hm",
      "gpuType": "A100"
    },
    "kernelspec": {
      "name": "python3",
      "display_name": "Python 3"
    },
    "language_info": {
      "name": "python"
    },
    "accelerator": "GPU"
  },
  "cells": [
    {
      "cell_type": "code",
      "source": [
        "from google.colab import drive\n",
        "drive.mount('/content/gdrive')"
      ],
      "metadata": {
        "colab": {
          "base_uri": "https://localhost:8080/"
        },
        "id": "Zf3qWvlzfHo3",
        "outputId": "e21ee097-b34d-4c55-eafd-c14900c5ba6d"
      },
      "execution_count": null,
      "outputs": [
        {
          "output_type": "stream",
          "name": "stdout",
          "text": [
            "Mounted at /content/gdrive\n"
          ]
        }
      ]
    },
    {
      "cell_type": "code",
      "source": [
        "%cd /content/gdrive/MyDrive/bit_conference/"
      ],
      "metadata": {
        "colab": {
          "base_uri": "https://localhost:8080/"
        },
        "id": "IJdK0UKDfIEO",
        "outputId": "0cc707df-948b-4bc2-b80f-7ab35c884517"
      },
      "execution_count": null,
      "outputs": [
        {
          "output_type": "stream",
          "name": "stdout",
          "text": [
            "/content/gdrive/.shortcut-targets-by-id/1YDrmXvwQeDTF3AVegVo_-qlULY2-1-qE/bit_conference\n"
          ]
        }
      ]
    },
    {
      "cell_type": "markdown",
      "source": [
        "### 텍스트 생성"
      ],
      "metadata": {
        "id": "rNeaBurTYw2d"
      }
    },
    {
      "cell_type": "code",
      "source": [
        "!pip install langchain_openai"
      ],
      "metadata": {
        "id": "5PjWDdnOpLDM"
      },
      "execution_count": null,
      "outputs": []
    },
    {
      "cell_type": "code",
      "source": [
        "import os\n",
        "os.environ[\"OPENAI_API_KEY\"] = \"...\""
      ],
      "metadata": {
        "id": "WmB-Aqsdqfj8"
      },
      "execution_count": null,
      "outputs": []
    },
    {
      "cell_type": "code",
      "source": [
        "import pandas as pd\n",
        "from langchain_openai import ChatOpenAI\n",
        "from langchain.prompts.chat import (\n",
        "    ChatPromptTemplate,\n",
        "    SystemMessagePromptTemplate,\n",
        "    HumanMessagePromptTemplate,\n",
        ")\n",
        "\n",
        "model = ChatOpenAI(model_name=\"gpt-4o\", temperature=1)"
      ],
      "metadata": {
        "id": "XdUuNSOAp_Xh"
      },
      "execution_count": null,
      "outputs": []
    },
    {
      "cell_type": "code",
      "source": [
        "from tqdm import tqdm\n",
        "from langchain.schema import StrOutputParser\n",
        "\n",
        "# 감정 리스트\n",
        "emotions = [\n",
        "    \"Exciting\", \"Hopeful\", \"Romantic\",\n",
        "    \"Heartwarming\", \"Calm\",\n",
        "    \"Sad\", \"Stress\", \"Lonely\"\n",
        "]\n",
        "\n",
        "# 데이터 저장용 리스트\n",
        "data = []\n",
        "\n",
        "# 템플릿 및 체인 설정\n",
        "humman_message_prompt = \"Generate 100 concise and realistic sentences related to emotion '{label}' \"\n",
        "humman_message_prompt_template = HumanMessagePromptTemplate.from_template(humman_message_prompt)\n",
        "chat_prompt_template = ChatPromptTemplate.from_messages([humman_message_prompt_template])\n",
        "\n",
        "chain = chat_prompt_template | model | StrOutputParser()\n",
        "\n",
        "# 감정마다 10번씩 반복하여 총 1000개의 문장 생성\n",
        "for emotion in tqdm(emotions, desc=\"Generating Sentences\"):\n",
        "    for _ in tqdm(range(20), desc=f\"Processing {emotion}\", leave=False):\n",
        "        out = chain.invoke({\"label\": emotion})\n",
        "        sentences = out.split(\"\\n\")  # 한 줄씩 분리\n",
        "        for sentence in sentences:\n",
        "            if sentence.strip():  # 빈 줄 제거\n",
        "                data.append({\"text\": sentence.strip(), \"label\": emotion})\n",
        "\n",
        "# 데이터프레임 생성\n",
        "df_gen = pd.DataFrame(data)"
      ],
      "metadata": {
        "colab": {
          "base_uri": "https://localhost:8080/"
        },
        "id": "3WvBlkICpn54",
        "outputId": "5954936d-03c7-4455-e700-459e905f13ed"
      },
      "execution_count": null,
      "outputs": [
        {
          "output_type": "stream",
          "name": "stderr",
          "text": [
            "Generating Sentences:   0%|          | 0/9 [00:00<?, ?it/s]\n",
            "Processing Exciting:   0%|          | 0/20 [00:00<?, ?it/s]\u001b[A\n",
            "Processing Exciting:   5%|▌         | 1/20 [00:18<05:51, 18.53s/it]\u001b[A\n",
            "Processing Exciting:  10%|█         | 2/20 [00:34<05:08, 17.12s/it]\u001b[A\n",
            "Processing Exciting:  15%|█▌        | 3/20 [00:49<04:37, 16.30s/it]\u001b[A\n",
            "Processing Exciting:  20%|██        | 4/20 [01:08<04:34, 17.15s/it]\u001b[A\n",
            "Processing Exciting:  25%|██▌       | 5/20 [01:23<04:06, 16.46s/it]\u001b[A\n",
            "Processing Exciting:  30%|███       | 6/20 [01:39<03:47, 16.27s/it]\u001b[A\n",
            "Processing Exciting:  35%|███▌      | 7/20 [01:57<03:37, 16.72s/it]\u001b[A\n",
            "Processing Exciting:  40%|████      | 8/20 [02:11<03:10, 15.84s/it]\u001b[A\n",
            "Processing Exciting:  45%|████▌     | 9/20 [02:26<02:51, 15.56s/it]\u001b[A\n",
            "Processing Exciting:  50%|█████     | 10/20 [02:43<02:40, 16.02s/it]\u001b[A\n",
            "Processing Exciting:  55%|█████▌    | 11/20 [02:57<02:20, 15.56s/it]\u001b[A\n",
            "Processing Exciting:  60%|██████    | 12/20 [03:11<02:01, 15.13s/it]\u001b[A\n",
            "Processing Exciting:  65%|██████▌   | 13/20 [03:28<01:48, 15.57s/it]\u001b[A\n",
            "Processing Exciting:  70%|███████   | 14/20 [03:44<01:34, 15.69s/it]\u001b[A\n",
            "Processing Exciting:  75%|███████▌  | 15/20 [04:01<01:20, 16.06s/it]\u001b[A\n",
            "Processing Exciting:  80%|████████  | 16/20 [04:18<01:05, 16.26s/it]\u001b[A\n",
            "Processing Exciting:  85%|████████▌ | 17/20 [04:32<00:47, 15.86s/it]\u001b[A\n",
            "Processing Exciting:  90%|█████████ | 18/20 [04:47<00:31, 15.61s/it]\u001b[A\n",
            "Processing Exciting:  95%|█████████▌| 19/20 [05:03<00:15, 15.66s/it]\u001b[A\n",
            "Processing Exciting: 100%|██████████| 20/20 [05:18<00:00, 15.24s/it]\u001b[A\n",
            "Generating Sentences:  11%|█         | 1/9 [05:18<42:24, 318.05s/it]\n",
            "Processing Hopeful:   0%|          | 0/20 [00:00<?, ?it/s]\u001b[A\n",
            "Processing Hopeful:   5%|▌         | 1/20 [00:19<06:04, 19.21s/it]\u001b[A\n",
            "Processing Hopeful:  10%|█         | 2/20 [00:37<05:35, 18.62s/it]\u001b[A\n",
            "Processing Hopeful:  15%|█▌        | 3/20 [00:54<05:05, 17.98s/it]\u001b[A\n",
            "Processing Hopeful:  20%|██        | 4/20 [01:14<04:57, 18.60s/it]\u001b[A\n",
            "Processing Hopeful:  25%|██▌       | 5/20 [01:31<04:31, 18.12s/it]\u001b[A\n",
            "Processing Hopeful:  30%|███       | 6/20 [01:50<04:15, 18.27s/it]\u001b[A\n",
            "Processing Hopeful:  35%|███▌      | 7/20 [02:08<03:59, 18.42s/it]\u001b[A\n",
            "Processing Hopeful:  40%|████      | 8/20 [02:32<03:59, 19.97s/it]\u001b[A\n",
            "Processing Hopeful:  45%|████▌     | 9/20 [02:50<03:36, 19.65s/it]\u001b[A\n",
            "Processing Hopeful:  50%|█████     | 10/20 [03:09<03:13, 19.30s/it]\u001b[A\n",
            "Processing Hopeful:  55%|█████▌    | 11/20 [03:32<03:04, 20.45s/it]\u001b[A\n",
            "Processing Hopeful:  60%|██████    | 12/20 [03:48<02:31, 18.97s/it]\u001b[A\n",
            "Processing Hopeful:  65%|██████▌   | 13/20 [04:05<02:09, 18.57s/it]\u001b[A\n",
            "Processing Hopeful:  70%|███████   | 14/20 [04:22<01:48, 18.01s/it]\u001b[A\n",
            "Processing Hopeful:  75%|███████▌  | 15/20 [04:40<01:30, 18.01s/it]\u001b[A\n",
            "Processing Hopeful:  80%|████████  | 16/20 [04:58<01:12, 18.04s/it]\u001b[A\n",
            "Processing Hopeful:  85%|████████▌ | 17/20 [05:15<00:52, 17.57s/it]\u001b[A\n",
            "Processing Hopeful:  90%|█████████ | 18/20 [05:32<00:35, 17.51s/it]\u001b[A\n",
            "Processing Hopeful:  95%|█████████▌| 19/20 [05:49<00:17, 17.42s/it]\u001b[A\n",
            "Processing Hopeful: 100%|██████████| 20/20 [06:07<00:00, 17.67s/it]\u001b[A\n",
            "Generating Sentences:  22%|██▏       | 2/9 [11:25<40:31, 347.38s/it]\n",
            "Processing Romantic:   0%|          | 0/20 [00:00<?, ?it/s]\u001b[A\n",
            "Processing Romantic:   5%|▌         | 1/20 [00:18<06:00, 18.99s/it]\u001b[A\n",
            "Processing Romantic:  10%|█         | 2/20 [00:40<06:06, 20.36s/it]\u001b[A\n",
            "Processing Romantic:  15%|█▌        | 3/20 [00:57<05:22, 18.99s/it]\u001b[A\n",
            "Processing Romantic:  20%|██        | 4/20 [01:49<08:32, 32.05s/it]\u001b[A\n",
            "Processing Romantic:  25%|██▌       | 5/20 [02:08<06:48, 27.24s/it]\u001b[A\n",
            "Processing Romantic:  30%|███       | 6/20 [02:27<05:41, 24.38s/it]\u001b[A\n",
            "Processing Romantic:  35%|███▌      | 7/20 [02:49<05:09, 23.83s/it]\u001b[A\n",
            "Processing Romantic:  40%|████      | 8/20 [03:09<04:30, 22.55s/it]\u001b[A\n",
            "Processing Romantic:  45%|████▌     | 9/20 [03:28<03:55, 21.45s/it]\u001b[A\n",
            "Processing Romantic:  50%|█████     | 10/20 [03:50<03:35, 21.53s/it]\u001b[A\n",
            "Processing Romantic:  55%|█████▌    | 11/20 [04:08<03:03, 20.37s/it]\u001b[A\n",
            "Processing Romantic:  60%|██████    | 12/20 [04:25<02:34, 19.33s/it]\u001b[A\n",
            "Processing Romantic:  65%|██████▌   | 13/20 [04:46<02:20, 20.03s/it]\u001b[A\n",
            "Processing Romantic:  70%|███████   | 14/20 [05:04<01:56, 19.45s/it]\u001b[A\n",
            "Processing Romantic:  75%|███████▌  | 15/20 [05:21<01:32, 18.58s/it]\u001b[A\n",
            "Processing Romantic:  80%|████████  | 16/20 [05:35<01:09, 17.31s/it]\u001b[A\n",
            "Processing Romantic:  85%|████████▌ | 17/20 [05:57<00:56, 18.67s/it]\u001b[A\n",
            "Processing Romantic:  90%|█████████ | 18/20 [06:18<00:38, 19.44s/it]\u001b[A\n",
            "Processing Romantic:  95%|█████████▌| 19/20 [06:35<00:18, 18.61s/it]\u001b[A\n",
            "Processing Romantic: 100%|██████████| 20/20 [06:58<00:00, 19.94s/it]\u001b[A\n",
            "Generating Sentences:  33%|███▎      | 3/9 [18:24<37:59, 379.95s/it]\n",
            "Processing Heartwarming:   0%|          | 0/20 [00:00<?, ?it/s]\u001b[A\n",
            "Processing Heartwarming:   5%|▌         | 1/20 [00:18<05:42, 18.05s/it]\u001b[A\n",
            "Processing Heartwarming:  10%|█         | 2/20 [00:36<05:32, 18.47s/it]\u001b[A\n",
            "Processing Heartwarming:  15%|█▌        | 3/20 [00:52<04:53, 17.26s/it]\u001b[A\n",
            "Processing Heartwarming:  20%|██        | 4/20 [01:14<05:06, 19.14s/it]\u001b[A\n",
            "Processing Heartwarming:  25%|██▌       | 5/20 [01:32<04:38, 18.56s/it]\u001b[A\n",
            "Processing Heartwarming:  30%|███       | 6/20 [01:47<04:06, 17.60s/it]\u001b[A\n",
            "Processing Heartwarming:  35%|███▌      | 7/20 [02:05<03:50, 17.71s/it]\u001b[A\n",
            "Processing Heartwarming:  40%|████      | 8/20 [02:20<03:20, 16.71s/it]\u001b[A\n",
            "Processing Heartwarming:  45%|████▌     | 9/20 [02:36<03:03, 16.65s/it]\u001b[A\n",
            "Processing Heartwarming:  50%|█████     | 10/20 [02:55<02:53, 17.38s/it]\u001b[A\n",
            "Processing Heartwarming:  55%|█████▌    | 11/20 [03:12<02:34, 17.21s/it]\u001b[A\n",
            "Processing Heartwarming:  60%|██████    | 12/20 [03:29<02:16, 17.08s/it]\u001b[A\n",
            "Processing Heartwarming:  65%|██████▌   | 13/20 [03:48<02:03, 17.58s/it]\u001b[A\n",
            "Processing Heartwarming:  70%|███████   | 14/20 [04:03<01:41, 16.90s/it]\u001b[A\n",
            "Processing Heartwarming:  75%|███████▌  | 15/20 [04:23<01:28, 17.79s/it]\u001b[A\n",
            "Processing Heartwarming:  80%|████████  | 16/20 [04:41<01:11, 17.82s/it]\u001b[A\n",
            "Processing Heartwarming:  85%|████████▌ | 17/20 [04:59<00:53, 17.96s/it]\u001b[A\n",
            "Processing Heartwarming:  90%|█████████ | 18/20 [05:14<00:33, 17.00s/it]\u001b[A\n",
            "Processing Heartwarming:  95%|█████████▌| 19/20 [05:31<00:16, 16.97s/it]\u001b[A\n",
            "Processing Heartwarming: 100%|██████████| 20/20 [05:51<00:00, 17.88s/it]\u001b[A\n",
            "Generating Sentences:  44%|████▍     | 4/9 [24:16<30:43, 368.66s/it]\n",
            "Processing Calm:   0%|          | 0/20 [00:00<?, ?it/s]\u001b[A\n",
            "Processing Calm:   5%|▌         | 1/20 [00:16<05:05, 16.08s/it]\u001b[A\n",
            "Processing Calm:  10%|█         | 2/20 [00:33<05:07, 17.08s/it]\u001b[A\n",
            "Processing Calm:  15%|█▌        | 3/20 [00:50<04:50, 17.08s/it]\u001b[A\n",
            "Processing Calm:  20%|██        | 4/20 [01:07<04:30, 16.90s/it]\u001b[A\n",
            "Processing Calm:  25%|██▌       | 5/20 [01:24<04:14, 17.00s/it]\u001b[A\n",
            "Processing Calm:  30%|███       | 6/20 [01:38<03:40, 15.78s/it]\u001b[A\n",
            "Processing Calm:  35%|███▌      | 7/20 [01:54<03:25, 15.81s/it]\u001b[A\n",
            "Processing Calm:  40%|████      | 8/20 [02:09<03:08, 15.75s/it]\u001b[A\n",
            "Processing Calm:  45%|████▌     | 9/20 [02:27<02:58, 16.27s/it]\u001b[A\n",
            "Processing Calm:  50%|█████     | 10/20 [02:43<02:43, 16.38s/it]\u001b[A\n",
            "Processing Calm:  55%|█████▌    | 11/20 [02:58<02:24, 16.03s/it]\u001b[A\n",
            "Processing Calm:  60%|██████    | 12/20 [03:15<02:10, 16.32s/it]\u001b[A\n",
            "Processing Calm:  65%|██████▌   | 13/20 [03:31<01:53, 16.23s/it]\u001b[A\n",
            "Processing Calm:  70%|███████   | 14/20 [03:48<01:37, 16.22s/it]\u001b[A\n",
            "Processing Calm:  75%|███████▌  | 15/20 [04:03<01:20, 16.05s/it]\u001b[A\n",
            "Processing Calm:  80%|████████  | 16/20 [04:21<01:06, 16.54s/it]\u001b[A\n",
            "Processing Calm:  85%|████████▌ | 17/20 [04:36<00:48, 16.08s/it]\u001b[A\n",
            "Processing Calm:  90%|█████████ | 18/20 [04:50<00:30, 15.42s/it]\u001b[A\n",
            "Processing Calm:  95%|█████████▌| 19/20 [05:05<00:15, 15.24s/it]\u001b[A\n",
            "Processing Calm: 100%|██████████| 20/20 [05:19<00:00, 14.92s/it]\u001b[A\n",
            "Generating Sentences:  56%|█████▌    | 5/9 [29:35<23:23, 350.88s/it]\n",
            "Processing Memory:   0%|          | 0/20 [00:00<?, ?it/s]\u001b[A\n",
            "Processing Memory:   5%|▌         | 1/20 [00:16<05:13, 16.50s/it]\u001b[A\n",
            "Processing Memory:  10%|█         | 2/20 [00:32<04:50, 16.17s/it]\u001b[A\n",
            "Processing Memory:  15%|█▌        | 3/20 [00:49<04:39, 16.43s/it]\u001b[A\n",
            "Processing Memory:  20%|██        | 4/20 [01:07<04:37, 17.37s/it]\u001b[A\n",
            "Processing Memory:  25%|██▌       | 5/20 [01:24<04:18, 17.23s/it]\u001b[A\n",
            "Processing Memory:  30%|███       | 6/20 [01:42<04:04, 17.43s/it]\u001b[A\n",
            "Processing Memory:  35%|███▌      | 7/20 [02:00<03:47, 17.46s/it]\u001b[A\n",
            "Processing Memory:  40%|████      | 8/20 [02:15<03:20, 16.72s/it]\u001b[A\n",
            "Processing Memory:  45%|████▌     | 9/20 [02:30<02:57, 16.17s/it]\u001b[A\n",
            "Processing Memory:  50%|█████     | 10/20 [02:46<02:42, 16.21s/it]\u001b[A\n",
            "Processing Memory:  55%|█████▌    | 11/20 [03:02<02:24, 16.04s/it]\u001b[A\n",
            "Processing Memory:  60%|██████    | 12/20 [03:18<02:09, 16.14s/it]\u001b[A\n",
            "Processing Memory:  65%|██████▌   | 13/20 [03:33<01:50, 15.79s/it]\u001b[A\n",
            "Processing Memory:  70%|███████   | 14/20 [03:48<01:33, 15.55s/it]\u001b[A\n",
            "Processing Memory:  75%|███████▌  | 15/20 [04:04<01:18, 15.66s/it]\u001b[A\n",
            "Processing Memory:  80%|████████  | 16/20 [04:18<01:00, 15.24s/it]\u001b[A\n",
            "Processing Memory:  85%|████████▌ | 17/20 [04:32<00:44, 14.81s/it]\u001b[A\n",
            "Processing Memory:  90%|█████████ | 18/20 [04:48<00:30, 15.16s/it]\u001b[A\n",
            "Processing Memory:  95%|█████████▌| 19/20 [05:04<00:15, 15.25s/it]\u001b[A\n",
            "Processing Memory: 100%|██████████| 20/20 [05:17<00:00, 14.60s/it]\u001b[A\n",
            "Generating Sentences:  67%|██████▋   | 6/9 [34:52<16:58, 339.44s/it]\n",
            "Processing Sad:   0%|          | 0/20 [00:00<?, ?it/s]\u001b[A\n",
            "Processing Sad:   5%|▌         | 1/20 [00:12<04:06, 12.99s/it]\u001b[A\n",
            "Processing Sad:  10%|█         | 2/20 [00:29<04:27, 14.85s/it]\u001b[A\n",
            "Processing Sad:  15%|█▌        | 3/20 [00:42<03:59, 14.08s/it]\u001b[A\n",
            "Processing Sad:  20%|██        | 4/20 [00:57<03:51, 14.48s/it]\u001b[A\n",
            "Processing Sad:  25%|██▌       | 5/20 [01:13<03:45, 15.02s/it]\u001b[A\n",
            "Processing Sad:  30%|███       | 6/20 [01:24<03:10, 13.58s/it]\u001b[A\n",
            "Processing Sad:  35%|███▌      | 7/20 [01:39<03:03, 14.12s/it]\u001b[A\n",
            "Processing Sad:  40%|████      | 8/20 [01:56<02:59, 15.00s/it]\u001b[A\n",
            "Processing Sad:  45%|████▌     | 9/20 [02:09<02:37, 14.30s/it]\u001b[A\n",
            "Processing Sad:  50%|█████     | 10/20 [02:28<02:40, 16.03s/it]\u001b[A\n",
            "Processing Sad:  55%|█████▌    | 11/20 [02:41<02:15, 15.07s/it]\u001b[A\n",
            "Processing Sad:  60%|██████    | 12/20 [02:56<02:00, 15.04s/it]\u001b[A\n",
            "Processing Sad:  65%|██████▌   | 13/20 [03:11<01:44, 14.94s/it]\u001b[A\n",
            "Processing Sad:  70%|███████   | 14/20 [03:24<01:26, 14.38s/it]\u001b[A\n",
            "Processing Sad:  75%|███████▌  | 15/20 [03:43<01:18, 15.62s/it]\u001b[A\n",
            "Processing Sad:  80%|████████  | 16/20 [03:56<00:59, 14.81s/it]\u001b[A\n",
            "Processing Sad:  85%|████████▌ | 17/20 [04:09<00:43, 14.50s/it]\u001b[A\n",
            "Processing Sad:  90%|█████████ | 18/20 [04:23<00:28, 14.27s/it]\u001b[A\n",
            "Processing Sad:  95%|█████████▌| 19/20 [04:37<00:14, 14.21s/it]\u001b[A\n",
            "Processing Sad: 100%|██████████| 20/20 [04:47<00:00, 12.79s/it]\u001b[A\n",
            "Generating Sentences:  78%|███████▊  | 7/9 [39:39<10:44, 322.33s/it]\n",
            "Processing Stress:   0%|          | 0/20 [00:00<?, ?it/s]\u001b[A\n",
            "Processing Stress:   5%|▌         | 1/20 [00:15<04:49, 15.25s/it]\u001b[A\n",
            "Processing Stress:  10%|█         | 2/20 [00:34<05:13, 17.42s/it]\u001b[A\n",
            "Processing Stress:  15%|█▌        | 3/20 [00:50<04:44, 16.71s/it]\u001b[A\n",
            "Processing Stress:  20%|██        | 4/20 [01:08<04:35, 17.22s/it]\u001b[A\n",
            "Processing Stress:  25%|██▌       | 5/20 [01:24<04:12, 16.85s/it]\u001b[A\n",
            "Processing Stress:  30%|███       | 6/20 [01:39<03:47, 16.25s/it]\u001b[A\n",
            "Processing Stress:  35%|███▌      | 7/20 [01:55<03:31, 16.28s/it]\u001b[A\n",
            "Processing Stress:  40%|████      | 8/20 [02:10<03:08, 15.70s/it]\u001b[A\n",
            "Processing Stress:  45%|████▌     | 9/20 [02:24<02:48, 15.36s/it]\u001b[A\n",
            "Processing Stress:  50%|█████     | 10/20 [02:41<02:37, 15.70s/it]\u001b[A\n",
            "Processing Stress:  55%|█████▌    | 11/20 [02:58<02:24, 16.06s/it]\u001b[A\n",
            "Processing Stress:  60%|██████    | 12/20 [03:13<02:07, 15.97s/it]\u001b[A\n",
            "Processing Stress:  65%|██████▌   | 13/20 [03:29<01:50, 15.80s/it]\u001b[A\n",
            "Processing Stress:  70%|███████   | 14/20 [03:45<01:35, 15.89s/it]\u001b[A\n",
            "Processing Stress:  75%|███████▌  | 15/20 [04:02<01:21, 16.34s/it]\u001b[A\n",
            "Processing Stress:  80%|████████  | 16/20 [04:19<01:05, 16.41s/it]\u001b[A\n",
            "Processing Stress:  85%|████████▌ | 17/20 [04:35<00:48, 16.27s/it]\u001b[A\n",
            "Processing Stress:  90%|█████████ | 18/20 [04:58<00:36, 18.26s/it]\u001b[A\n",
            "Processing Stress:  95%|█████████▌| 19/20 [05:16<00:18, 18.28s/it]\u001b[A\n",
            "Processing Stress: 100%|██████████| 20/20 [05:32<00:00, 17.69s/it]\u001b[A\n",
            "Generating Sentences:  89%|████████▉ | 8/9 [45:12<05:25, 325.67s/it]\n",
            "Processing Lonely:   0%|          | 0/20 [00:00<?, ?it/s]\u001b[A\n",
            "Processing Lonely:   5%|▌         | 1/20 [00:19<06:07, 19.36s/it]\u001b[A\n",
            "Processing Lonely:  10%|█         | 2/20 [00:40<06:02, 20.12s/it]\u001b[A\n",
            "Processing Lonely:  15%|█▌        | 3/20 [01:02<05:57, 21.02s/it]\u001b[A\n",
            "Processing Lonely:  20%|██        | 4/20 [01:20<05:21, 20.12s/it]\u001b[A\n",
            "Processing Lonely:  25%|██▌       | 5/20 [01:42<05:12, 20.82s/it]\u001b[A\n",
            "Processing Lonely:  30%|███       | 6/20 [02:03<04:51, 20.82s/it]\u001b[A\n",
            "Processing Lonely:  35%|███▌      | 7/20 [02:22<04:20, 20.07s/it]\u001b[A\n",
            "Processing Lonely:  40%|████      | 8/20 [02:42<04:01, 20.11s/it]\u001b[A\n",
            "Processing Lonely:  45%|████▌     | 9/20 [03:05<03:49, 20.88s/it]\u001b[A\n",
            "Processing Lonely:  50%|█████     | 10/20 [03:23<03:20, 20.08s/it]\u001b[A\n",
            "Processing Lonely:  55%|█████▌    | 11/20 [03:41<02:56, 19.58s/it]\u001b[A\n",
            "Processing Lonely:  60%|██████    | 12/20 [03:59<02:32, 19.05s/it]\u001b[A\n",
            "Processing Lonely:  65%|██████▌   | 13/20 [04:22<02:22, 20.36s/it]\u001b[A\n",
            "Processing Lonely:  70%|███████   | 14/20 [04:49<02:13, 22.26s/it]\u001b[A\n",
            "Processing Lonely:  75%|███████▌  | 15/20 [05:13<01:53, 22.70s/it]\u001b[A\n",
            "Processing Lonely:  80%|████████  | 16/20 [05:38<01:33, 23.31s/it]\u001b[A\n",
            "Processing Lonely:  85%|████████▌ | 17/20 [06:03<01:11, 23.80s/it]\u001b[A\n",
            "Processing Lonely:  90%|█████████ | 18/20 [06:23<00:45, 22.91s/it]\u001b[A\n",
            "Processing Lonely:  95%|█████████▌| 19/20 [06:44<00:22, 22.27s/it]\u001b[A\n",
            "Processing Lonely: 100%|██████████| 20/20 [07:04<00:00, 21.64s/it]\u001b[A\n",
            "Generating Sentences: 100%|██████████| 9/9 [52:17<00:00, 348.59s/it]\n"
          ]
        }
      ]
    },
    {
      "cell_type": "code",
      "source": [
        "df_gen"
      ],
      "metadata": {
        "colab": {
          "base_uri": "https://localhost:8080/",
          "height": 423
        },
        "id": "TF9-R7GuplAd",
        "outputId": "ea8493f1-e651-4146-af91-96dab3f82e40"
      },
      "execution_count": null,
      "outputs": [
        {
          "output_type": "execute_result",
          "data": {
            "text/plain": [
              "                                                    text     label\n",
              "0      1. Her heart raced with exciting anticipation ...  Exciting\n",
              "1      2. The exciting news of his promotion spread q...  Exciting\n",
              "2      3. They shared an exciting evening filled with...  Exciting\n",
              "3      4. Opening the email brought exciting opportun...  Exciting\n",
              "4      5. The possibility of traveling the world fill...  Exciting\n",
              "...                                                  ...       ...\n",
              "18008  96. His solitary figure was etched against the...    Lonely\n",
              "18009  97. In the library, she discovered a cure for ...    Lonely\n",
              "18010  98. He embraced his loneliness as a bitterswee...    Lonely\n",
              "18011  99. The cafe buzzed with life, but she felt lo...    Lonely\n",
              "18012  100. Her journey led her to confront her deepe...    Lonely\n",
              "\n",
              "[18013 rows x 2 columns]"
            ],
            "text/html": [
              "\n",
              "  <div id=\"df-a85e4cad-9c17-481a-8859-c8d9dcd70abd\" class=\"colab-df-container\">\n",
              "    <div>\n",
              "<style scoped>\n",
              "    .dataframe tbody tr th:only-of-type {\n",
              "        vertical-align: middle;\n",
              "    }\n",
              "\n",
              "    .dataframe tbody tr th {\n",
              "        vertical-align: top;\n",
              "    }\n",
              "\n",
              "    .dataframe thead th {\n",
              "        text-align: right;\n",
              "    }\n",
              "</style>\n",
              "<table border=\"1\" class=\"dataframe\">\n",
              "  <thead>\n",
              "    <tr style=\"text-align: right;\">\n",
              "      <th></th>\n",
              "      <th>text</th>\n",
              "      <th>label</th>\n",
              "    </tr>\n",
              "  </thead>\n",
              "  <tbody>\n",
              "    <tr>\n",
              "      <th>0</th>\n",
              "      <td>1. Her heart raced with exciting anticipation ...</td>\n",
              "      <td>Exciting</td>\n",
              "    </tr>\n",
              "    <tr>\n",
              "      <th>1</th>\n",
              "      <td>2. The exciting news of his promotion spread q...</td>\n",
              "      <td>Exciting</td>\n",
              "    </tr>\n",
              "    <tr>\n",
              "      <th>2</th>\n",
              "      <td>3. They shared an exciting evening filled with...</td>\n",
              "      <td>Exciting</td>\n",
              "    </tr>\n",
              "    <tr>\n",
              "      <th>3</th>\n",
              "      <td>4. Opening the email brought exciting opportun...</td>\n",
              "      <td>Exciting</td>\n",
              "    </tr>\n",
              "    <tr>\n",
              "      <th>4</th>\n",
              "      <td>5. The possibility of traveling the world fill...</td>\n",
              "      <td>Exciting</td>\n",
              "    </tr>\n",
              "    <tr>\n",
              "      <th>...</th>\n",
              "      <td>...</td>\n",
              "      <td>...</td>\n",
              "    </tr>\n",
              "    <tr>\n",
              "      <th>18008</th>\n",
              "      <td>96. His solitary figure was etched against the...</td>\n",
              "      <td>Lonely</td>\n",
              "    </tr>\n",
              "    <tr>\n",
              "      <th>18009</th>\n",
              "      <td>97. In the library, she discovered a cure for ...</td>\n",
              "      <td>Lonely</td>\n",
              "    </tr>\n",
              "    <tr>\n",
              "      <th>18010</th>\n",
              "      <td>98. He embraced his loneliness as a bitterswee...</td>\n",
              "      <td>Lonely</td>\n",
              "    </tr>\n",
              "    <tr>\n",
              "      <th>18011</th>\n",
              "      <td>99. The cafe buzzed with life, but she felt lo...</td>\n",
              "      <td>Lonely</td>\n",
              "    </tr>\n",
              "    <tr>\n",
              "      <th>18012</th>\n",
              "      <td>100. Her journey led her to confront her deepe...</td>\n",
              "      <td>Lonely</td>\n",
              "    </tr>\n",
              "  </tbody>\n",
              "</table>\n",
              "<p>18013 rows × 2 columns</p>\n",
              "</div>\n",
              "    <div class=\"colab-df-buttons\">\n",
              "\n",
              "  <div class=\"colab-df-container\">\n",
              "    <button class=\"colab-df-convert\" onclick=\"convertToInteractive('df-a85e4cad-9c17-481a-8859-c8d9dcd70abd')\"\n",
              "            title=\"Convert this dataframe to an interactive table.\"\n",
              "            style=\"display:none;\">\n",
              "\n",
              "  <svg xmlns=\"http://www.w3.org/2000/svg\" height=\"24px\" viewBox=\"0 -960 960 960\">\n",
              "    <path d=\"M120-120v-720h720v720H120Zm60-500h600v-160H180v160Zm220 220h160v-160H400v160Zm0 220h160v-160H400v160ZM180-400h160v-160H180v160Zm440 0h160v-160H620v160ZM180-180h160v-160H180v160Zm440 0h160v-160H620v160Z\"/>\n",
              "  </svg>\n",
              "    </button>\n",
              "\n",
              "  <style>\n",
              "    .colab-df-container {\n",
              "      display:flex;\n",
              "      gap: 12px;\n",
              "    }\n",
              "\n",
              "    .colab-df-convert {\n",
              "      background-color: #E8F0FE;\n",
              "      border: none;\n",
              "      border-radius: 50%;\n",
              "      cursor: pointer;\n",
              "      display: none;\n",
              "      fill: #1967D2;\n",
              "      height: 32px;\n",
              "      padding: 0 0 0 0;\n",
              "      width: 32px;\n",
              "    }\n",
              "\n",
              "    .colab-df-convert:hover {\n",
              "      background-color: #E2EBFA;\n",
              "      box-shadow: 0px 1px 2px rgba(60, 64, 67, 0.3), 0px 1px 3px 1px rgba(60, 64, 67, 0.15);\n",
              "      fill: #174EA6;\n",
              "    }\n",
              "\n",
              "    .colab-df-buttons div {\n",
              "      margin-bottom: 4px;\n",
              "    }\n",
              "\n",
              "    [theme=dark] .colab-df-convert {\n",
              "      background-color: #3B4455;\n",
              "      fill: #D2E3FC;\n",
              "    }\n",
              "\n",
              "    [theme=dark] .colab-df-convert:hover {\n",
              "      background-color: #434B5C;\n",
              "      box-shadow: 0px 1px 3px 1px rgba(0, 0, 0, 0.15);\n",
              "      filter: drop-shadow(0px 1px 2px rgba(0, 0, 0, 0.3));\n",
              "      fill: #FFFFFF;\n",
              "    }\n",
              "  </style>\n",
              "\n",
              "    <script>\n",
              "      const buttonEl =\n",
              "        document.querySelector('#df-a85e4cad-9c17-481a-8859-c8d9dcd70abd button.colab-df-convert');\n",
              "      buttonEl.style.display =\n",
              "        google.colab.kernel.accessAllowed ? 'block' : 'none';\n",
              "\n",
              "      async function convertToInteractive(key) {\n",
              "        const element = document.querySelector('#df-a85e4cad-9c17-481a-8859-c8d9dcd70abd');\n",
              "        const dataTable =\n",
              "          await google.colab.kernel.invokeFunction('convertToInteractive',\n",
              "                                                    [key], {});\n",
              "        if (!dataTable) return;\n",
              "\n",
              "        const docLinkHtml = 'Like what you see? Visit the ' +\n",
              "          '<a target=\"_blank\" href=https://colab.research.google.com/notebooks/data_table.ipynb>data table notebook</a>'\n",
              "          + ' to learn more about interactive tables.';\n",
              "        element.innerHTML = '';\n",
              "        dataTable['output_type'] = 'display_data';\n",
              "        await google.colab.output.renderOutput(dataTable, element);\n",
              "        const docLink = document.createElement('div');\n",
              "        docLink.innerHTML = docLinkHtml;\n",
              "        element.appendChild(docLink);\n",
              "      }\n",
              "    </script>\n",
              "  </div>\n",
              "\n",
              "\n",
              "<div id=\"df-7f8938c4-5596-4960-afba-03e899574198\">\n",
              "  <button class=\"colab-df-quickchart\" onclick=\"quickchart('df-7f8938c4-5596-4960-afba-03e899574198')\"\n",
              "            title=\"Suggest charts\"\n",
              "            style=\"display:none;\">\n",
              "\n",
              "<svg xmlns=\"http://www.w3.org/2000/svg\" height=\"24px\"viewBox=\"0 0 24 24\"\n",
              "     width=\"24px\">\n",
              "    <g>\n",
              "        <path d=\"M19 3H5c-1.1 0-2 .9-2 2v14c0 1.1.9 2 2 2h14c1.1 0 2-.9 2-2V5c0-1.1-.9-2-2-2zM9 17H7v-7h2v7zm4 0h-2V7h2v10zm4 0h-2v-4h2v4z\"/>\n",
              "    </g>\n",
              "</svg>\n",
              "  </button>\n",
              "\n",
              "<style>\n",
              "  .colab-df-quickchart {\n",
              "      --bg-color: #E8F0FE;\n",
              "      --fill-color: #1967D2;\n",
              "      --hover-bg-color: #E2EBFA;\n",
              "      --hover-fill-color: #174EA6;\n",
              "      --disabled-fill-color: #AAA;\n",
              "      --disabled-bg-color: #DDD;\n",
              "  }\n",
              "\n",
              "  [theme=dark] .colab-df-quickchart {\n",
              "      --bg-color: #3B4455;\n",
              "      --fill-color: #D2E3FC;\n",
              "      --hover-bg-color: #434B5C;\n",
              "      --hover-fill-color: #FFFFFF;\n",
              "      --disabled-bg-color: #3B4455;\n",
              "      --disabled-fill-color: #666;\n",
              "  }\n",
              "\n",
              "  .colab-df-quickchart {\n",
              "    background-color: var(--bg-color);\n",
              "    border: none;\n",
              "    border-radius: 50%;\n",
              "    cursor: pointer;\n",
              "    display: none;\n",
              "    fill: var(--fill-color);\n",
              "    height: 32px;\n",
              "    padding: 0;\n",
              "    width: 32px;\n",
              "  }\n",
              "\n",
              "  .colab-df-quickchart:hover {\n",
              "    background-color: var(--hover-bg-color);\n",
              "    box-shadow: 0 1px 2px rgba(60, 64, 67, 0.3), 0 1px 3px 1px rgba(60, 64, 67, 0.15);\n",
              "    fill: var(--button-hover-fill-color);\n",
              "  }\n",
              "\n",
              "  .colab-df-quickchart-complete:disabled,\n",
              "  .colab-df-quickchart-complete:disabled:hover {\n",
              "    background-color: var(--disabled-bg-color);\n",
              "    fill: var(--disabled-fill-color);\n",
              "    box-shadow: none;\n",
              "  }\n",
              "\n",
              "  .colab-df-spinner {\n",
              "    border: 2px solid var(--fill-color);\n",
              "    border-color: transparent;\n",
              "    border-bottom-color: var(--fill-color);\n",
              "    animation:\n",
              "      spin 1s steps(1) infinite;\n",
              "  }\n",
              "\n",
              "  @keyframes spin {\n",
              "    0% {\n",
              "      border-color: transparent;\n",
              "      border-bottom-color: var(--fill-color);\n",
              "      border-left-color: var(--fill-color);\n",
              "    }\n",
              "    20% {\n",
              "      border-color: transparent;\n",
              "      border-left-color: var(--fill-color);\n",
              "      border-top-color: var(--fill-color);\n",
              "    }\n",
              "    30% {\n",
              "      border-color: transparent;\n",
              "      border-left-color: var(--fill-color);\n",
              "      border-top-color: var(--fill-color);\n",
              "      border-right-color: var(--fill-color);\n",
              "    }\n",
              "    40% {\n",
              "      border-color: transparent;\n",
              "      border-right-color: var(--fill-color);\n",
              "      border-top-color: var(--fill-color);\n",
              "    }\n",
              "    60% {\n",
              "      border-color: transparent;\n",
              "      border-right-color: var(--fill-color);\n",
              "    }\n",
              "    80% {\n",
              "      border-color: transparent;\n",
              "      border-right-color: var(--fill-color);\n",
              "      border-bottom-color: var(--fill-color);\n",
              "    }\n",
              "    90% {\n",
              "      border-color: transparent;\n",
              "      border-bottom-color: var(--fill-color);\n",
              "    }\n",
              "  }\n",
              "</style>\n",
              "\n",
              "  <script>\n",
              "    async function quickchart(key) {\n",
              "      const quickchartButtonEl =\n",
              "        document.querySelector('#' + key + ' button');\n",
              "      quickchartButtonEl.disabled = true;  // To prevent multiple clicks.\n",
              "      quickchartButtonEl.classList.add('colab-df-spinner');\n",
              "      try {\n",
              "        const charts = await google.colab.kernel.invokeFunction(\n",
              "            'suggestCharts', [key], {});\n",
              "      } catch (error) {\n",
              "        console.error('Error during call to suggestCharts:', error);\n",
              "      }\n",
              "      quickchartButtonEl.classList.remove('colab-df-spinner');\n",
              "      quickchartButtonEl.classList.add('colab-df-quickchart-complete');\n",
              "    }\n",
              "    (() => {\n",
              "      let quickchartButtonEl =\n",
              "        document.querySelector('#df-7f8938c4-5596-4960-afba-03e899574198 button');\n",
              "      quickchartButtonEl.style.display =\n",
              "        google.colab.kernel.accessAllowed ? 'block' : 'none';\n",
              "    })();\n",
              "  </script>\n",
              "</div>\n",
              "\n",
              "  <div id=\"id_5498330a-a729-44f2-9dc2-655140b8a00c\">\n",
              "    <style>\n",
              "      .colab-df-generate {\n",
              "        background-color: #E8F0FE;\n",
              "        border: none;\n",
              "        border-radius: 50%;\n",
              "        cursor: pointer;\n",
              "        display: none;\n",
              "        fill: #1967D2;\n",
              "        height: 32px;\n",
              "        padding: 0 0 0 0;\n",
              "        width: 32px;\n",
              "      }\n",
              "\n",
              "      .colab-df-generate:hover {\n",
              "        background-color: #E2EBFA;\n",
              "        box-shadow: 0px 1px 2px rgba(60, 64, 67, 0.3), 0px 1px 3px 1px rgba(60, 64, 67, 0.15);\n",
              "        fill: #174EA6;\n",
              "      }\n",
              "\n",
              "      [theme=dark] .colab-df-generate {\n",
              "        background-color: #3B4455;\n",
              "        fill: #D2E3FC;\n",
              "      }\n",
              "\n",
              "      [theme=dark] .colab-df-generate:hover {\n",
              "        background-color: #434B5C;\n",
              "        box-shadow: 0px 1px 3px 1px rgba(0, 0, 0, 0.15);\n",
              "        filter: drop-shadow(0px 1px 2px rgba(0, 0, 0, 0.3));\n",
              "        fill: #FFFFFF;\n",
              "      }\n",
              "    </style>\n",
              "    <button class=\"colab-df-generate\" onclick=\"generateWithVariable('df_gen')\"\n",
              "            title=\"Generate code using this dataframe.\"\n",
              "            style=\"display:none;\">\n",
              "\n",
              "  <svg xmlns=\"http://www.w3.org/2000/svg\" height=\"24px\"viewBox=\"0 0 24 24\"\n",
              "       width=\"24px\">\n",
              "    <path d=\"M7,19H8.4L18.45,9,17,7.55,7,17.6ZM5,21V16.75L18.45,3.32a2,2,0,0,1,2.83,0l1.4,1.43a1.91,1.91,0,0,1,.58,1.4,1.91,1.91,0,0,1-.58,1.4L9.25,21ZM18.45,9,17,7.55Zm-12,3A5.31,5.31,0,0,0,4.9,8.1,5.31,5.31,0,0,0,1,6.5,5.31,5.31,0,0,0,4.9,4.9,5.31,5.31,0,0,0,6.5,1,5.31,5.31,0,0,0,8.1,4.9,5.31,5.31,0,0,0,12,6.5,5.46,5.46,0,0,0,6.5,12Z\"/>\n",
              "  </svg>\n",
              "    </button>\n",
              "    <script>\n",
              "      (() => {\n",
              "      const buttonEl =\n",
              "        document.querySelector('#id_5498330a-a729-44f2-9dc2-655140b8a00c button.colab-df-generate');\n",
              "      buttonEl.style.display =\n",
              "        google.colab.kernel.accessAllowed ? 'block' : 'none';\n",
              "\n",
              "      buttonEl.onclick = () => {\n",
              "        google.colab.notebook.generateWithVariable('df_gen');\n",
              "      }\n",
              "      })();\n",
              "    </script>\n",
              "  </div>\n",
              "\n",
              "    </div>\n",
              "  </div>\n"
            ],
            "application/vnd.google.colaboratory.intrinsic+json": {
              "type": "dataframe",
              "variable_name": "df_gen",
              "summary": "{\n  \"name\": \"df_gen\",\n  \"rows\": 18013,\n  \"fields\": [\n    {\n      \"column\": \"text\",\n      \"properties\": {\n        \"dtype\": \"string\",\n        \"num_unique_values\": 18006,\n        \"samples\": [\n          \"51. Launching into space is the ultimate exciting adventure.\",\n          \"70. The thrilling bike race through the mountain trails was an exciting endeavor.\",\n          \"51. The wedding day was filled with exciting emotions.\"\n        ],\n        \"semantic_type\": \"\",\n        \"description\": \"\"\n      }\n    },\n    {\n      \"column\": \"label\",\n      \"properties\": {\n        \"dtype\": \"category\",\n        \"num_unique_values\": 9,\n        \"samples\": [\n          \"Stress\",\n          \"Hopeful\",\n          \"Memory\"\n        ],\n        \"semantic_type\": \"\",\n        \"description\": \"\"\n      }\n    }\n  ]\n}"
            }
          },
          "metadata": {},
          "execution_count": 8
        }
      ]
    },
    {
      "cell_type": "code",
      "source": [
        "file_path = '/content/gdrive/MyDrive/bit_conference/coding/df_gen.csv'\n",
        "df_gen.to_csv(file_path, index=False)\n",
        "print(f\"DataFrame successfully saved to {file_path}\")"
      ],
      "metadata": {
        "colab": {
          "base_uri": "https://localhost:8080/"
        },
        "id": "v9G1leG5iqML",
        "outputId": "114238dc-a34a-4e5c-e5d8-6a6957103739"
      },
      "execution_count": null,
      "outputs": [
        {
          "output_type": "stream",
          "name": "stdout",
          "text": [
            "DataFrame successfully saved to /content/gdrive/MyDrive/bit_conference/coding/df_gen.csv\n"
          ]
        }
      ]
    },
    {
      "cell_type": "code",
      "source": [
        "# 첫 글자가 숫자인지 확인하는 함수\n",
        "def clean_text(text):\n",
        "    if text[0].isdigit():  # 첫 글자가 숫자인 경우\n",
        "        return text.split('. ', 1)[-1] if '. ' in text else text\n",
        "    return None  # 첫 글자가 숫자가 아닌 경우 삭제 대상\n",
        "\n",
        "# 첫 글자가 숫자가 아닌 행 삭제 및 '. ' 이후 부분 유지\n",
        "df_gen[\"text\"] = df_gen[\"text\"].apply(clean_text)\n",
        "\n",
        "# None 값이 된 행 삭제\n",
        "df_gen = df_gen.dropna(subset=[\"text\"]).reset_index(drop=True)"
      ],
      "metadata": {
        "id": "mm_7PggBeg_l"
      },
      "execution_count": null,
      "outputs": []
    },
    {
      "cell_type": "code",
      "source": [
        "# 감정 리스트 정의\n",
        "emotions = [\n",
        "    \"Exciting\", \"Hopeful\", \"Romantic\",\n",
        "    \"Heartwarming\", \"Calm\", \"Memory\",\n",
        "    \"Sad\", \"Stress\", \"Lonely\"\n",
        "]\n",
        "\n",
        "# emotions 리스트에 있는 label 값만 필터링\n",
        "df_gen2 = df_gen[df_gen[\"label\"].isin(emotions)].copy()\n",
        "\n",
        "# 감정별로 숫자 매기기\n",
        "id_dict = {emotion: 1 for emotion in emotions}  # 각 감정별 카운터 초기화\n",
        "\n",
        "def generate_id(row):\n",
        "    emotion = row[\"label\"]\n",
        "    num = id_dict[emotion]\n",
        "    id_dict[emotion] += 1  # 해당 감정의 카운터 증가\n",
        "    return f\"{emotion}{str(num).zfill(4)}\"\n",
        "\n",
        "df_gen2[\"id\"] = df_gen2.apply(generate_id, axis=1)\n",
        "\n",
        "# 인덱스 리셋\n",
        "df_gen2 = df_gen2.reset_index(drop=True)\n"
      ],
      "metadata": {
        "id": "eziMXsirpnkk"
      },
      "execution_count": null,
      "outputs": []
    },
    {
      "cell_type": "code",
      "source": [
        "file_path = '/content/gdrive/MyDrive/bit_conference/coding/df_gen2.csv'\n",
        "df_gen2.to_csv(file_path, index=False)\n",
        "print(f\"DataFrame successfully saved to {file_path}\")"
      ],
      "metadata": {
        "colab": {
          "base_uri": "https://localhost:8080/"
        },
        "id": "wiNChKrmr428",
        "outputId": "f24cdcdc-f031-4c96-d356-ccfa462a77cf"
      },
      "execution_count": null,
      "outputs": [
        {
          "output_type": "stream",
          "name": "stdout",
          "text": [
            "DataFrame successfully saved to /content/gdrive/MyDrive/bit_conference/coding/df_gen2.csv\n"
          ]
        }
      ]
    },
    {
      "cell_type": "markdown",
      "source": [
        "### 이미지 생성"
      ],
      "metadata": {
        "id": "w13hPrZqY0Qr"
      }
    },
    {
      "cell_type": "code",
      "source": [
        "from google.colab import drive\n",
        "drive.mount('/content/gdrive')"
      ],
      "metadata": {
        "colab": {
          "base_uri": "https://localhost:8080/"
        },
        "id": "iqnZPu07Y1jV",
        "outputId": "0c62fe44-0484-49f6-c5a1-1c397adec3bb"
      },
      "execution_count": null,
      "outputs": [
        {
          "output_type": "stream",
          "name": "stdout",
          "text": [
            "Mounted at /content/gdrive\n"
          ]
        }
      ]
    },
    {
      "cell_type": "code",
      "source": [
        "%cd /content/gdrive/MyDrive/bit_conference/"
      ],
      "metadata": {
        "colab": {
          "base_uri": "https://localhost:8080/"
        },
        "id": "tdqGvnzkZWdW",
        "outputId": "447e7682-2a7a-42f6-c738-fac1e1e220b1"
      },
      "execution_count": null,
      "outputs": [
        {
          "output_type": "stream",
          "name": "stdout",
          "text": [
            "/content/gdrive/.shortcut-targets-by-id/1YDrmXvwQeDTF3AVegVo_-qlULY2-1-qE/bit_conference\n"
          ]
        }
      ]
    },
    {
      "cell_type": "code",
      "source": [
        "!pip install invisible_watermark transformers accelerate safetensors"
      ],
      "metadata": {
        "id": "FsLoRUGlZZPk"
      },
      "execution_count": null,
      "outputs": []
    },
    {
      "cell_type": "code",
      "source": [
        "!pip install diffusers --upgrade"
      ],
      "metadata": {
        "id": "NK5zLVUlZaA-"
      },
      "execution_count": null,
      "outputs": []
    },
    {
      "cell_type": "code",
      "source": [
        "from diffusers import DiffusionPipeline\n",
        "import torch\n",
        "\n",
        "pipe = DiffusionPipeline.from_pretrained(\n",
        "    \"stabilityai/stable-diffusion-xl-base-1.0\",\n",
        "    torch_dtype=torch.float16,\n",
        "    use_safetensors=True,\n",
        "    variant=\"fp16\"\n",
        ")\n",
        "pipe.to(\"cuda\")"
      ],
      "metadata": {
        "id": "Jm3cswp0bFq7"
      },
      "execution_count": null,
      "outputs": []
    },
    {
      "cell_type": "code",
      "source": [
        "df_gen2 = pd.read_csv('coding/df_gen2.csv')"
      ],
      "metadata": {
        "id": "32S2vPVjsIZW"
      },
      "execution_count": null,
      "outputs": []
    },
    {
      "cell_type": "code",
      "source": [
        "# 감정 리스트 정의\n",
        "emotions = [\n",
        "    \"Exciting\", \"Hopeful\", \"Romantic\",\n",
        "    \"Heartwarming\", \"Calm\", \"Memory\",\n",
        "    \"Sad\", \"Stress\", \"Lonely\"\n",
        "]\n",
        "\n",
        "# 각 감정별로 데이터프레임을 생성하고 변수에 저장\n",
        "for emotion in emotions:\n",
        "    globals()[f\"df_{emotion.lower()}\"] = df_gen2[df_gen2[\"label\"] == emotion].reset_index(drop=True)"
      ],
      "metadata": {
        "id": "JxgFDmi_sxLs"
      },
      "execution_count": null,
      "outputs": []
    },
    {
      "cell_type": "code",
      "source": [
        "import os\n",
        "from tqdm import tqdm  # 진행 상황 표시\n",
        "from PIL import Image\n",
        "\n",
        "# 저장할 디렉토리 설정\n",
        "save_dir = \"/content/gdrive/MyDrive/bit_conference/image_gen/exciting\"\n",
        "os.makedirs(save_dir, exist_ok=True)  # 디렉토리 생성 (없으면 생성)\n",
        "\n",
        "# tqdm을 사용하여 진행 상황 표시\n",
        "for index, row in tqdm(df_exciting.iterrows(), total=len(df_exciting), desc=\"Generating Images\"):\n",
        "    prompt = row[\"text\"]  # text 칼럼을 prompt로 사용\n",
        "    image = pipe(prompt=prompt).images[0]  # 이미지 생성\n",
        "    file_name = f\"{row['id']}.png\"  # id 칼럼을 파일명으로 사용\n",
        "    file_path = os.path.join(save_dir, file_name)  # 파일 경로 설정\n",
        "    image.save(file_path)  # 이미지 저장\n",
        "\n",
        "print(\" 모든 이미지 생성 및 저장 완료!\")"
      ],
      "metadata": {
        "id": "jnbceW6StLI1"
      },
      "execution_count": null,
      "outputs": []
    }
  ]
}